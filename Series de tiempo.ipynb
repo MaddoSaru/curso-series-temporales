{
  "nbformat": 4,
  "nbformat_minor": 0,
  "metadata": {
    "colab": {
      "name": "Untitled2.ipynb",
      "provenance": [],
      "authorship_tag": "ABX9TyPeKL4Qgge85EhsVItVHlOb",
      "include_colab_link": true
    },
    "kernelspec": {
      "name": "python3",
      "display_name": "Python 3"
    }
  },
  "cells": [
    {
      "cell_type": "markdown",
      "metadata": {
        "id": "view-in-github",
        "colab_type": "text"
      },
      "source": [
        "<a href=\"https://colab.research.google.com/github/MaddoSaru/curso-series-temporales/blob/master/Series%20de%20tiempo.ipynb\" target=\"_parent\"><img src=\"https://colab.research.google.com/assets/colab-badge.svg\" alt=\"Open In Colab\"/></a>"
      ]
    },
    {
      "cell_type": "markdown",
      "metadata": {
        "id": "lIFxGZEhmIov",
        "colab_type": "text"
      },
      "source": [
        "# **Conceptos básicos**"
      ]
    },
    {
      "cell_type": "markdown",
      "metadata": {
        "id": "s8ri10o0oGV3",
        "colab_type": "text"
      },
      "source": [
        "**Importar paquetes importantes**"
      ]
    },
    {
      "cell_type": "code",
      "metadata": {
        "id": "7GCy6R2KmDH_",
        "colab_type": "code",
        "colab": {}
      },
      "source": [
        "import pandas as pd # Manipulación de data y análisis\n",
        "import numpy as np # Manipulación de arreglos y matrices\n",
        "import matplotlib.pyplot as plt # Creación de gráficos\n",
        "import statsmodels.graphics.tsaplots as sgt # Graficar función de autocorrelación\n",
        "import statsmodels.tsa.stattools as sts # Análisis de series de tiempo\n",
        "from statsmodels.tsa.arima_model import ARIMA # Modelo ARIMA(p,d,q)\n",
        "from statsmodels.tsa.statespace.sarimax import SARIMAX # Modelo SARIMA(p,d,q)(P,D,Q)\n",
        "from scipy.stats.distributions import chi2 # Importar chi2\n",
        "from math import sqrt # Importar función raíz cuadrada\n",
        "from pmdarima.arima import auto_arima # Modelo Auto ARIMA\n",
        "from fbprophet import Prophet \n",
        "import seaborn as sns # Visualización de datos\n",
        "import warnings\n",
        "warnings.filterwarnings(\"ignore\") # Ignorar mensajes de error\n",
        "sns.set()"
      ],
      "execution_count": null,
      "outputs": []
    },
    {
      "cell_type": "markdown",
      "metadata": {
        "id": "XVR449WQormj",
        "colab_type": "text"
      },
      "source": [
        "**LLR Test**"
      ]
    },
    {
      "cell_type": "code",
      "metadata": {
        "id": "j7xUJTapot8w",
        "colab_type": "code",
        "colab": {}
      },
      "source": [
        "def LLR_test(mod_1, mod_2, DF = 1):\n",
        "    L1 = mod_1.llf\n",
        "    L2 = mod_2.llf\n",
        "    LR = (2*(L2-L1))    \n",
        "    p = chi2.sf(LR, DF).round(3)\n",
        "    return p"
      ],
      "execution_count": null,
      "outputs": []
    },
    {
      "cell_type": "markdown",
      "metadata": {
        "id": "kqPDhYFmrtN6",
        "colab_type": "text"
      },
      "source": [
        "**Dickey - Fuller Test de estacionariedad**"
      ]
    },
    {
      "cell_type": "code",
      "metadata": {
        "id": "f9BRY_YJrzzi",
        "colab_type": "code",
        "colab": {}
      },
      "source": [
        "sts.adfuller(#campo de la serie de tiempo)\n",
        "# H0: No es estacionaria - Si p-value es menor a 0,05 la serie es estacionaria"
      ],
      "execution_count": null,
      "outputs": []
    },
    {
      "cell_type": "markdown",
      "metadata": {
        "id": "J_4r5dlCsjPQ",
        "colab_type": "text"
      },
      "source": [
        "**Descomposición del modelo**"
      ]
    },
    {
      "cell_type": "code",
      "metadata": {
        "id": "ZLOf3RFNsmLO",
        "colab_type": "code",
        "colab": {}
      },
      "source": [
        "Seasonal_decompose(#campo de la serie de tiempo, model = “#additive or multiplicative”)\n",
        "#Descomposición en tendencia, estacionalidad, ruido blanco"
      ],
      "execution_count": null,
      "outputs": []
    },
    {
      "cell_type": "markdown",
      "metadata": {
        "id": "mb-ukXeAs3xP",
        "colab_type": "text"
      },
      "source": [
        "**Función de autocorrelación (ACF)**"
      ]
    },
    {
      "cell_type": "code",
      "metadata": {
        "id": "PR6uPF3Ds8uh",
        "colab_type": "code",
        "colab": {}
      },
      "source": [
        "ts.plot_acf(#campo de la serie de tiempo, lags = # cantidad de retrasos, zero = False)\n",
        "# Si los puntos están dentro de la zona de significancia son significativamente distintos de cero y significativamente cero si no"
      ],
      "execution_count": null,
      "outputs": []
    },
    {
      "cell_type": "markdown",
      "metadata": {
        "id": "MvUPxPS6ucEm",
        "colab_type": "text"
      },
      "source": [
        "# **SARIMAX**"
      ]
    },
    {
      "cell_type": "code",
      "metadata": {
        "id": "_dfBOyemuhye",
        "colab_type": "code",
        "colab": {}
      },
      "source": [
        "modelo = SARIMAX()\n",
        "resultados = modelo.fit()\n",
        "\n",
        "# SARIMAX(variable observada(y), exog = variables exógenas, order = orden de los componentes ARIMA (p,d,q), seasonal_order = orden de los componentes estacionales S (P,D,Q),\n",
        "# trend = {n (nula), c (constante), t (lineal), ct (constante y lineal)}, etc)"
      ],
      "execution_count": null,
      "outputs": []
    },
    {
      "cell_type": "markdown",
      "metadata": {
        "id": "9vK_MWCAusmW",
        "colab_type": "text"
      },
      "source": [
        "# **AUTO ARIMA**"
      ]
    },
    {
      "cell_type": "code",
      "metadata": {
        "id": "wpMBBi3PuvFR",
        "colab_type": "code",
        "colab": {}
      },
      "source": [
        "modelo = auto_arima()\n",
        "resultados = modelo.fit()\n",
        "\n",
        "# auto_arima(variable observada(y), exogenous = variables exógenas, m = largo del ciclo estacional, max_order = cantidad máxima de variables a usar en el modelo (p+q), max_{p,d,q,P,D,Q} = orden máximo AR,I,MA,\n",
        "# maxiter = cantidad máxima de iteraciones, alpha = nivel de significancia, n_jobs = cantidad de modelos a analizar en paralelo, {-1} es la cantidad máxima posible, trend = {ct (lineal),ctt (cuadrática)}, \n",
        "# information_criterion = {aic, aicc, bic, hqic, oob}, out_of_sample_size = cantidad de datos fuera del modelo para entrenamiento {0.2*len(cantidad de registros)})"
      ],
      "execution_count": null,
      "outputs": []
    },
    {
      "cell_type": "markdown",
      "metadata": {
        "id": "ekB8E7T04xEq",
        "colab_type": "text"
      },
      "source": [
        "# **PROPHET**"
      ]
    },
    {
      "cell_type": "code",
      "metadata": {
        "id": "yfV3_4x240pP",
        "colab_type": "code",
        "colab": {}
      },
      "source": [
        "df.columns = ['ds','y']\n",
        "df['ds'] = pd.to_datetime(df['ds'])\n",
        "m = Prophet()\n",
        "m.fit(df)\n",
        "future = m.make_future_dataframe(periods = #cantidad de periodos a pronosticar, freq = #frecuencia de los datos)\n",
        "forecast = m.predict(future)\n",
        "grafico_general = m.plot(forecast)\n",
        "grafico_componentes = m.plot_components(forecast)"
      ],
      "execution_count": null,
      "outputs": []
    }
  ]
}